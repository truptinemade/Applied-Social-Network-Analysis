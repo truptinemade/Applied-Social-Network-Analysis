{
 "cells": [
  {
   "cell_type": "markdown",
   "metadata": {},
   "source": [
    "---\n",
    "\n",
    "_You are currently looking at **version 1.1** of this notebook. To download notebooks and datafiles, as well as get help on Jupyter notebooks in the Coursera platform, visit the [Jupyter Notebook FAQ](https://www.coursera.org/learn/python-social-network-analysis/resources/yPcBs) course resource._\n",
    "\n",
    "---"
   ]
  },
  {
   "cell_type": "markdown",
   "metadata": {},
   "source": [
    "# Assignment 1 - Creating and Manipulating Graphs\n",
    "\n",
    "Eight employees at a small company were asked to choose 3 movies that they would most enjoy watching for the upcoming company movie night. These choices are stored in the file `Employee_Movie_Choices.txt`.\n",
    "\n",
    "A second file, `Employee_Relationships.txt`, has data on the relationships between different coworkers. \n",
    "\n",
    "The relationship score has value of `-100` (Enemies) to `+100` (Best Friends). A value of zero means the two employees haven't interacted or are indifferent.\n",
    "\n",
    "Both files are tab delimited."
   ]
  },
  {
   "cell_type": "code",
   "execution_count": 1,
   "metadata": {
    "collapsed": true
   },
   "outputs": [],
   "source": [
    "import networkx as nx\n",
    "import pandas as pd\n",
    "import numpy as np\n",
    "from networkx.algorithms import bipartite\n",
    "\n",
    "\n",
    "# This is the set of employees\n",
    "employees = set(['Pablo',\n",
    "                 'Lee',\n",
    "                 'Georgia',\n",
    "                 'Vincent',\n",
    "                 'Andy',\n",
    "                 'Frida',\n",
    "                 'Joan',\n",
    "                 'Claude'])\n",
    "\n",
    "# This is the set of movies\n",
    "movies = set(['The Shawshank Redemption',\n",
    "              'Forrest Gump',\n",
    "              'The Matrix',\n",
    "              'Anaconda',\n",
    "              'The Social Network',\n",
    "              'The Godfather',\n",
    "              'Monty Python and the Holy Grail',\n",
    "              'Snakes on a Plane',\n",
    "              'Kung Fu Panda',\n",
    "              'The Dark Knight',\n",
    "              'Mean Girls'])\n",
    "\n",
    "\n",
    "# you can use the following function to plot graphs\n",
    "# make sure to comment it out before submitting to the autograder\n",
    "#def plot_graph(G, weight_name=None):\n",
    "#    '''\n",
    "#    G: a networkx G\n",
    "#    weight_name: name of the attribute for plotting edge weights (if G is weighted)\n",
    "#    '''\n",
    "#    %matplotlib notebook\n",
    "#    import matplotlib.pyplot as plt\n",
    "#    \n",
    "#    plt.figure()\n",
    "#    pos = nx.spring_layout(G)\n",
    "#    edges = G.edges()\n",
    "#    weights = None\n",
    "#    \n",
    "#    if weight_name:\n",
    "#        weights = [int(G[u][v][weight_name]) for u,v in edges]\n",
    "#        labels = nx.get_edge_attributes(G,weight_name)\n",
    "#        nx.draw_networkx_edge_labels(G,pos,edge_labels=labels)\n",
    "#        nx.draw_networkx(G, pos, edges=edges, width=weights);\n",
    "#    else:\n",
    "#        nx.draw_networkx(G, pos, edges=edges);"
   ]
  },
  {
   "cell_type": "markdown",
   "metadata": {},
   "source": [
    "### Question 1\n",
    "\n",
    "Using NetworkX, load in the bipartite graph from `Employee_Movie_Choices.txt` and return that graph.\n",
    "\n",
    "*This function should return a networkx graph with 19 nodes and 24 edges*"
   ]
  },
  {
   "cell_type": "code",
   "execution_count": 2,
   "metadata": {
    "collapsed": true
   },
   "outputs": [],
   "source": [
    "def answer_one():\n",
    "        \n",
    "    import networkx as nx\n",
    "    import pandas as pd\n",
    "    \n",
    "    G=nx.read_edgelist('Employee_Movie_Choices.txt',delimiter=\"\\t\")\n",
    "    \n",
    "    \n",
    "    return G\n"
   ]
  },
  {
   "cell_type": "markdown",
   "metadata": {},
   "source": [
    "### Question 2\n",
    "\n",
    "Using the graph from the previous question, add nodes attributes named `'type'` where movies have the value `'movie'` and employees have the value `'employee'` and return that graph.\n",
    "\n",
    "*This function should return a networkx graph with node attributes `{'type': 'movie'}` or `{'type': 'employee'}`*"
   ]
  },
  {
   "cell_type": "code",
   "execution_count": 3,
   "metadata": {
    "collapsed": true
   },
   "outputs": [],
   "source": [
    "def answer_two():\n",
    "\n",
    "    G=answer_one()\n",
    "    G.add_nodes_from(employees,type='employee')\n",
    "    G.add_nodes_from(movies,type='movie')\n",
    "    \n",
    "    return G\n",
    "\n"
   ]
  },
  {
   "cell_type": "markdown",
   "metadata": {
    "collapsed": true
   },
   "source": [
    "### Question 3\n",
    "\n",
    "Find a weighted projection of the graph from `answer_two` which tells us how many movies different pairs of employees have in common.\n",
    "\n",
    "*This function should return a weighted projected graph.*"
   ]
  },
  {
   "cell_type": "code",
   "execution_count": 4,
   "metadata": {
    "collapsed": true
   },
   "outputs": [],
   "source": [
    "def answer_three():\n",
    "    from networkx.algorithms import bipartite\n",
    "\n",
    "    G=answer_two()\n",
    "    G.add_nodes_from(employees,bipartite=0)\n",
    "    G.add_nodes_from(employees,bipartite=1)\n",
    "    B=bipartite.weighted_projected_graph(G,employees)  \n",
    "    # Your Code Here\n",
    "    \n",
    "    return B\n"
   ]
  },
  {
   "cell_type": "markdown",
   "metadata": {
    "collapsed": true
   },
   "source": [
    "### Question 4\n",
    "\n",
    "Suppose you'd like to find out if people that have a high relationship score also like the same types of movies.\n",
    "\n",
    "Find the Pearson correlation ( using `DataFrame.corr()` ) between employee relationship scores and the number of movies they have in common. If two employees have no movies in common it should be treated as a 0, not a missing value, and should be included in the correlation calculation.\n",
    "\n",
    "*This function should return a float.*"
   ]
  },
  {
   "cell_type": "code",
   "execution_count": 40,
   "metadata": {},
   "outputs": [
    {
     "name": "stderr",
     "output_type": "stream",
     "text": [
      "/opt/conda/lib/python3.6/site-packages/ipykernel_launcher.py:26: SettingWithCopyWarning: \n",
      "A value is trying to be set on a copy of a slice from a DataFrame\n",
      "\n",
      "See the caveats in the documentation: http://pandas.pydata.org/pandas-docs/stable/indexing.html#indexing-view-versus-copy\n",
      "/opt/conda/lib/python3.6/site-packages/ipykernel_launcher.py:27: SettingWithCopyWarning: \n",
      "A value is trying to be set on a copy of a slice from a DataFrame\n",
      "\n",
      "See the caveats in the documentation: http://pandas.pydata.org/pandas-docs/stable/indexing.html#indexing-view-versus-copy\n"
     ]
    },
    {
     "data": {
      "text/plain": [
       "0.78839622217334737"
      ]
     },
     "execution_count": 40,
     "metadata": {},
     "output_type": "execute_result"
    }
   ],
   "source": [
    "def set_value(val):\n",
    "    if val is np.nan:\n",
    "        return 0\n",
    "    else:\n",
    "        return val\n",
    "\n",
    "def answer_four():\n",
    "    import networkx as nx\n",
    "    import pandas as pd\n",
    "        \n",
    "    ER_G=nx.read_edgelist('Employee_Relationships.txt',delimiter='\\t', data=[('Weight1', int)])\n",
    "    B=answer_three()\n",
    "    U=nx.Graph()\n",
    "    U.add_edges_from(ER_G.edges(data=True))\n",
    "    U.add_edges_from(B.edges(data=True))\n",
    "\n",
    "    #for i in range(len(list(U.edges)):\n",
    "    #     if U[list(U.edges)[i][0]][list(U.edges)[i][1]].get('weight',0)==0:\n",
    "    #            U[list(U.edges)[i][0]][list(U.edges)[i][1]]['weight']=U[list(U.edges)[i][0]][list(U.edges)[i][1]].get('weight',0)  \n",
    "        #U.add_edge(U.add_edge(list(B.edges)[i][0],list(B.edges)[i][1])#,weight=set_value(nx.get_edge_attributes(B,'weight')[list(B.edges)[i]]))\n",
    "        #U.add_edges_from(B.edges(data=True),weight=set_value(B.edges(data='weight')))\n",
    "    df=pd.DataFrame(U.edges(data=True), columns=['From', 'To', 'score'])\n",
    "    df['relationship']=0\n",
    "    df['likes']=0\n",
    "    for i in range(len(df['score'])):\n",
    "        df['relationship'][i]=df['score'][i]['Weight1']\n",
    "        df['likes'][i]=df['score'][i].get('weight',0)\n",
    "    \n",
    "    \n",
    "   \n",
    "\n",
    "    return df['likes'].corr(df['relationship'])#.edges(data=True)#U[list(U.edges)[7][0]][list(U.edges)[7][1]].get('weight',0)#U.add_edge(list(B.edges)[0][0],list(B.edges)[0][1]) #list(B.edges(data=True))#nx.get_edge_attributes(U,'weight')[list(U.edges)[1]]\n"
   ]
  },
  {
   "cell_type": "code",
   "execution_count": null,
   "metadata": {
    "collapsed": true
   },
   "outputs": [],
   "source": []
  }
 ],
 "metadata": {
  "coursera": {
   "course_slug": "python-social-network-analysis",
   "graded_item_id": "YNa9b",
   "launcher_item_id": "hvNc1",
   "part_id": "VbyiB"
  },
  "kernelspec": {
   "display_name": "Python 3",
   "language": "python",
   "name": "python3"
  },
  "language_info": {
   "codemirror_mode": {
    "name": "ipython",
    "version": 3
   },
   "file_extension": ".py",
   "mimetype": "text/x-python",
   "name": "python",
   "nbconvert_exporter": "python",
   "pygments_lexer": "ipython3",
   "version": "3.8.2"
  }
 },
 "nbformat": 4,
 "nbformat_minor": 2
}
